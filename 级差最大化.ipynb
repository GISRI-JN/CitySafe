{
 "cells": [
  {
   "cell_type": "code",
   "execution_count": 7,
   "id": "16343c6d-db26-407c-8578-fc531c76a244",
   "metadata": {},
   "outputs": [
    {
     "name": "stdout",
     "output_type": "stream",
     "text": [
      "                 漏斗  地灾       经济损         高程         降水         温差    人数  \\\n",
      "0     181015.865792   0  357436.0  30.113244  21.390701  33.582880     0   \n",
      "1      64755.509011   0  357436.0  24.416763  22.191440  33.702040  1232   \n",
      "2      17572.321407   0  357436.0  26.415722  21.741275  34.076674     0   \n",
      "3          0.000000   0  186154.0  45.854378  22.654401  33.264549   343   \n",
      "4       7364.964501   0  357436.0  49.383379  22.140590  33.415480  1671   \n",
      "...             ...  ..       ...        ...        ...        ...   ...   \n",
      "1090    2352.078201   0  186154.0  41.212604  23.140989  32.302056  2399   \n",
      "1091       0.000000   2  186154.0  57.027415  23.377501  32.335350     0   \n",
      "1092   89552.556152   0  186154.0  54.438883  23.567540  32.338740  1000   \n",
      "1093   35353.016393   0  186154.0  44.420131  22.932312  32.521276  1400   \n",
      "1094       0.000000   0  186154.0  55.781662  23.166150  32.222549   174   \n",
      "\n",
      "                 房屋   四地类乘以权重  \n",
      "0       4439.310059  1.409041  \n",
      "1      85926.383561  2.015888  \n",
      "2      26565.185423  1.483019  \n",
      "3       8680.933198  0.372463  \n",
      "4     103518.307440  2.855812  \n",
      "...             ...       ...  \n",
      "1090  339862.883511  3.742290  \n",
      "1091    6461.902165  0.661472  \n",
      "1092   52428.895613  2.483301  \n",
      "1093   89705.581863  2.547770  \n",
      "1094   14261.532485  0.654404  \n",
      "\n",
      "[1095 rows x 9 columns]\n"
     ]
    }
   ],
   "source": [
    "#1 读取Excel文件\n",
    "\n",
    "import pandas\n",
    "import math\n",
    "import scipy.optimize as sco\n",
    "import numpy as np\n",
    "\n",
    "filename = \"原始.xlsx\"\n",
    "path = \"D:\\\\熵权\\\\\"\n",
    "data = pandas.read_excel(path+filename,sheet_name=0)\n",
    "#保留原始数据\n",
    "data_yuanshi = data.copy()\n",
    "print(data)\n"
   ]
  },
  {
   "cell_type": "code",
   "execution_count": 8,
   "id": "feb1ebbe-f9d5-40a2-bad9-c30cbff3200b",
   "metadata": {},
   "outputs": [
    {
     "name": "stderr",
     "output_type": "stream",
     "text": [
      "C:\\Users\\Administrator\\AppData\\Local\\Temp\\ipykernel_10580\\1835461489.py:9: FutureWarning: Setting an item of incompatible dtype is deprecated and will raise in a future error of pandas. Value '0.04353356890459364' has dtype incompatible with int64, please explicitly cast to a compatible dtype first.\n",
      "  data.iloc[i,j] = (float(data.iloc[i,j])-float(min[cols[j]]))/(float(max[cols[j]])-float(min[cols[j]]))\n",
      "C:\\Users\\Administrator\\AppData\\Local\\Temp\\ipykernel_10580\\1835461489.py:9: FutureWarning: Setting an item of incompatible dtype is deprecated and will raise in a future error of pandas. Value '0.3333333333333333' has dtype incompatible with int64, please explicitly cast to a compatible dtype first.\n",
      "  data.iloc[i,j] = (float(data.iloc[i,j])-float(min[cols[j]]))/(float(max[cols[j]])-float(min[cols[j]]))\n"
     ]
    },
    {
     "name": "stdout",
     "output_type": "stream",
     "text": [
      "[[0.09444039 0.         0.74513423 ... 0.         0.00906997 0.22012211]\n",
      " [0.03378453 0.         0.74513423 ... 0.04353357 0.17555656 0.31643773]\n",
      " [0.00916791 0.         0.74513423 ... 0.         0.05427544 0.23186357]\n",
      " ...\n",
      " [0.04672175 0.         0.38234621 ... 0.03533569 0.1071177  0.39062321]\n",
      " [0.01844453 0.         0.38234621 ... 0.04946996 0.18327785 0.40085547]\n",
      " [0.         0.         0.38234621 ... 0.00614841 0.0291378  0.10034997]]\n"
     ]
    }
   ],
   "source": [
    "#2 归一化化数据\n",
    "\n",
    "max = data.max()\n",
    "min = data.min()\n",
    "cols = data.columns\n",
    "#归一化数据\n",
    "for i in range(data.shape[0]):\n",
    "    for j in range(data.shape[1]):\n",
    "        data.iloc[i,j] = (float(data.iloc[i,j])-float(min[cols[j]]))/(float(max[cols[j]])-float(min[cols[j]]))\n",
    "data_guiyi = data.copy()\n",
    "#转数组\n",
    "X = data_guiyi.to_numpy()\n",
    "print(X)\n"
   ]
  },
  {
   "cell_type": "code",
   "execution_count": 9,
   "id": "5eb1bcf8-397f-4575-9b87-71396508255a",
   "metadata": {},
   "outputs": [],
   "source": [
    "# 3.输入变量的边界条件\n",
    "bnds = ((0.2625,0.356),(0.14925,0.326),(0.023,0.09525),\n",
    "        (0.026,0.093),(0.015,0.0795),(0.034,0.0705),\n",
    "        (0.1,0.11025),(0.071,0.081),(0.039,0.0685))\n",
    "\n",
    "\n",
    "# 2.输入约束条件，字典形式传入\n",
    "cons = ({'type':'eq','fun':lambda w:np.sum(w)-1})\n"
   ]
  },
  {
   "cell_type": "code",
   "execution_count": 10,
   "id": "249a5c3b-e4be-421f-9475-8fb25311fdca",
   "metadata": {},
   "outputs": [],
   "source": [
    "# 1.写出优化函数\n",
    "def f(w):\n",
    "    w = np.array(w)\n",
    "    # 计算每列的均值\n",
    "    column_means = np.mean(X, axis=0)\n",
    "    \n",
    "    # 计算加权方差\n",
    "    weighted_variances = np.zeros(len(w))\n",
    "    for i, x_col in enumerate(X.T):\n",
    "        weighted_variances[i] = w[i] * ((x_col - column_means[i]) ** 2).sum()\n",
    "\n",
    "    result = weighted_variances.sum()\n",
    "    return -result\n",
    " \n",
    "\n",
    "\n",
    "\n",
    "    \n",
    "    # 计算加权方差\n",
    "    #weighted_variance = np.average((X * w).sum(axis=0) / w.sum() - (X ** 2 * w).sum(axis=0) / w.sum() ** 2, axis=1)\n",
    "    #return weighted_variance"
   ]
  },
  {
   "cell_type": "code",
   "execution_count": 11,
   "id": "60425032-ae67-4dde-9c51-a3b69d223a34",
   "metadata": {},
   "outputs": [
    {
     "name": "stdout",
     "output_type": "stream",
     "text": [
      " message: Optimization terminated successfully\n",
      " success: True\n",
      "  status: 0\n",
      "     fun: -31.618659796276447\n",
      "       x: [ 2.625e-01  1.893e-01  9.525e-02  9.300e-02  7.950e-02\n",
      "            7.050e-02  1.000e-01  7.100e-02  3.900e-02]\n",
      "     nit: 2\n",
      "     jac: [-1.744e+00 -2.270e+01 -9.251e+01 -5.528e+01 -4.779e+01\n",
      "           -9.917e+01 -1.844e+00 -1.519e+01 -2.203e+01]\n",
      "    nfev: 20\n",
      "    njev: 2\n",
      "==========================\n"
     ]
    }
   ],
   "source": [
    "# 优化：\n",
    "result = sco.minimize(f,[0.2625,0.14925,0.023,0.026,0.015,0.034,0.1,0.071,0.039],method='SLSQP',bounds=bnds,constraints=cons)\n",
    "print(result)\n",
    "print(\"==========================\")\n"
   ]
  },
  {
   "cell_type": "code",
   "execution_count": null,
   "id": "60f10e24-b7b4-4965-8aa6-cc48c71fa271",
   "metadata": {},
   "outputs": [],
   "source": []
  }
 ],
 "metadata": {
  "kernelspec": {
   "display_name": "Python 3 (ipykernel)",
   "language": "python",
   "name": "python3"
  },
  "language_info": {
   "codemirror_mode": {
    "name": "ipython",
    "version": 3
   },
   "file_extension": ".py",
   "mimetype": "text/x-python",
   "name": "python",
   "nbconvert_exporter": "python",
   "pygments_lexer": "ipython3",
   "version": "3.11.7"
  }
 },
 "nbformat": 4,
 "nbformat_minor": 5
}
